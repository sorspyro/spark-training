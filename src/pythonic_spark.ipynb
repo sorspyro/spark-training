{
 "cells": [
  {
   "cell_type": "code",
   "execution_count": null,
   "metadata": {},
   "outputs": [],
   "source": [
    "from pyspark.sql import SparkSession, DataFrame\n",
    "from common.session import get_spark_session\n",
    "from pyspark.sql.types import StructType, StructField, IntegerType, StringType\n",
    "\n",
    "spark = get_spark_session(session_name=\"HelloWorld\")\n",
    "\n",
    "\n",
    "spark = SparkSession.builder.appName(\"DummyDataFrame\").getOrCreate()\n",
    "data = [('Alice', 2), ('Bob', 1), ('Charlie', 3), ('David', 0), ('Eva', 2)]\n",
    "\n",
    "schema = StructType([\n",
    "    StructField(\"name\", StringType(), True),\n",
    "    StructField(\"pets_count\", IntegerType(), True),\n",
    "])\n",
    "\n",
    "df = spark.createDataFrame(data, schema)"
   ]
  },
  {
   "cell_type": "code",
   "execution_count": null,
   "metadata": {},
   "outputs": [],
   "source": [
    "from pyspark.sql.functions import udf, pandas_udf\n",
    "\n",
    "@udf(IntegerType())\n",
    "def count_letters_in_name(name: str) -> int:\n",
    "    return len(name)"
   ]
  },
  {
   "cell_type": "code",
   "execution_count": null,
   "metadata": {},
   "outputs": [],
   "source": [
    "from pyspark.sql.functions import pandas_udf\n",
    "import pandas as pd\n",
    "\n",
    "def countLetters(name: str)-> int:\n",
    "    return len(name)\n",
    "\n",
    "@pandas_udf(IntegerType())\n",
    "def count_letters_udf(v):\n",
    "    return pd.Series(countLetters(i) for i in v)"
   ]
  }
 ],
 "metadata": {
  "language_info": {
   "name": "python"
  },
  "orig_nbformat": 4
 },
 "nbformat": 4,
 "nbformat_minor": 2
}

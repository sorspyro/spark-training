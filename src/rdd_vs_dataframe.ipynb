{
 "cells": [
  {
   "cell_type": "code",
   "execution_count": 10,
   "metadata": {},
   "outputs": [
    {
     "name": "stdout",
     "output_type": "stream",
     "text": [
      "[('Alice', 2), ('Bob', 1), ('Charlie', 3), ('David', 0), ('Eva', 2)]\n"
     ]
    }
   ],
   "source": [
    "# RDD API\n",
    "\n",
    "from pyspark import SparkContext\n",
    "\n",
    "data = [('Alice', 2), ('Bob', 1), ('Charlie', 3), ('David', 0), ('Eva', 2)]\n",
    "\n",
    "\n",
    "sc = SparkContext.getOrCreate()\n",
    "\n",
    "\n",
    "rdd = sc.parallelize(data)\n",
    "\n",
    "print(rdd.collect())"
   ]
  },
  {
   "cell_type": "code",
   "execution_count": 9,
   "metadata": {},
   "outputs": [
    {
     "name": "stdout",
     "output_type": "stream",
     "text": [
      "23/07/26 19:48:28 WARN SparkSession: Using an existing Spark session; only runtime SQL configurations will take effect.\n",
      "23/07/26 19:48:28 WARN SparkSession: Using an existing Spark session; only runtime SQL configurations will take effect.\n",
      "[Row(name='Alice', pets_count=2), Row(name='Bob', pets_count=1), Row(name='Charlie', pets_count=3), Row(name='David', pets_count=0), Row(name='Eva', pets_count=2)]\n"
     ]
    }
   ],
   "source": [
    "# Dataframe API\n",
    "\n",
    "from pyspark.sql import SparkSession, DataFrame\n",
    "from common.session import get_spark_session\n",
    "from pyspark.sql.types import StructType, StructField, IntegerType, StringType\n",
    "\n",
    "spark = get_spark_session(session_name=\"HelloWorld\")\n",
    "\n",
    "\n",
    "spark = SparkSession.builder.appName(\"DummyDataFrame\").getOrCreate()\n",
    "data = [('Alice', 2), ('Bob', 1), ('Charlie', 3), ('David', 0), ('Eva', 2)]\n",
    "\n",
    "schema = StructType([\n",
    "    StructField(\"name\", StringType(), True),\n",
    "    StructField(\"pets_count\", IntegerType(), True),\n",
    "])\n",
    "\n",
    "df = spark.createDataFrame(data, schema)\n",
    "print(df.collect())"
   ]
  }
 ],
 "metadata": {
  "kernelspec": {
   "display_name": "Python 3 (ipykernel)",
   "language": "python",
   "name": "python3"
  },
  "language_info": {
   "codemirror_mode": {
    "name": "ipython",
    "version": 3
   },
   "file_extension": ".py",
   "mimetype": "text/x-python",
   "name": "python",
   "nbconvert_exporter": "python",
   "pygments_lexer": "ipython3",
   "version": "3.10.12"
  },
  "orig_nbformat": 4
 },
 "nbformat": 4,
 "nbformat_minor": 2
}

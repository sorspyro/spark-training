{
 "cells": [
  {
   "cell_type": "markdown",
   "metadata": {},
   "source": [
    "# Schema Enforcement in parquet format"
   ]
  },
  {
   "cell_type": "code",
   "execution_count": null,
   "metadata": {},
   "outputs": [],
   "source": [
    "table_path=\"/usr/local/work/data/parquet_table1\""
   ]
  },
  {
   "cell_type": "code",
   "execution_count": null,
   "metadata": {},
   "outputs": [],
   "source": [
    "from pyspark.sql import SparkSession, DataFrame\n",
    "from common.session import get_spark_session\n",
    "from pyspark.sql.types import StructType, StructField, IntegerType, StringType\n",
    "\n",
    "spark = get_spark_session(session_name=\"HelloWorld\")\n",
    "\n",
    "columns = [\"first_name\", \"age\"]\n",
    "data = [(\"bob\", 47), (\"li\", 23), (\"leonard\", 51)]\n",
    "df = spark.createDataFrame(data, columns)\n",
    "\n",
    "df.write.format(\"parquet\").save(table_path)"
   ]
  },
  {
   "cell_type": "code",
   "execution_count": null,
   "metadata": {},
   "outputs": [],
   "source": [
    "columns = [\"first_name\", \"favorite_color\"]\n",
    "data = [(\"sal\", \"red\"), (\"cat\", \"pink\")]\n",
    "df = spark.createDataFrame(data, columns)\n",
    "\n",
    "df.write.mode(\"append\").format(\"parquet\").save(table_path)"
   ]
  },
  {
   "cell_type": "code",
   "execution_count": null,
   "metadata": {},
   "outputs": [],
   "source": [
    "spark.read.format(\"parquet\").load(table_path).show()"
   ]
  },
  {
   "cell_type": "code",
   "execution_count": null,
   "metadata": {},
   "outputs": [],
   "source": [
    "spark.read.option(\"mergeSchema\", \"true\").format(\"parquet\").load(\n",
    "    table_path\n",
    ").show()"
   ]
  },
  {
   "cell_type": "markdown",
   "metadata": {},
   "source": [
    "# Schema Enforcement in delta format"
   ]
  },
  {
   "cell_type": "code",
   "execution_count": null,
   "metadata": {},
   "outputs": [],
   "source": [
    "delta_table_path=\"/usr/local/work/data/delta_table1\""
   ]
  },
  {
   "cell_type": "code",
   "execution_count": null,
   "metadata": {},
   "outputs": [],
   "source": [
    "columns = [\"first_name\", \"age\"]\n",
    "data = [(\"bob\", 47), (\"li\", 23), (\"leonard\", 51)]\n",
    "df = spark.createDataFrame(data, columns)\n",
    "\n",
    "df.write.format(\"delta\").save(delta_table_path)"
   ]
  },
  {
   "cell_type": "code",
   "execution_count": null,
   "metadata": {},
   "outputs": [],
   "source": [
    "columns = [\"first_name\", \"favorite_color\"]\n",
    "data = [(\"sal\", \"red\"), (\"cat\", \"pink\")]\n",
    "df = spark.createDataFrame(data, columns)\n",
    "\n",
    "df.write.mode(\"append\").format(\"delta\").save(delta_table_path)"
   ]
  },
  {
   "cell_type": "code",
   "execution_count": null,
   "metadata": {},
   "outputs": [],
   "source": [
    "df.write.option(\"mergeSchema\", \"true\").mode(\"append\").format(\"delta\").save(delta_table_path)"
   ]
  },
  {
   "cell_type": "code",
   "execution_count": null,
   "metadata": {},
   "outputs": [],
   "source": [
    "spark.read.format(\"delta\").load(delta_table_path).show()"
   ]
  }
 ],
 "metadata": {
  "kernelspec": {
   "display_name": "Python 3 (ipykernel)",
   "language": "python",
   "name": "python3"
  },
  "language_info": {
   "codemirror_mode": {
    "name": "ipython",
    "version": 3
   },
   "file_extension": ".py",
   "mimetype": "text/x-python",
   "name": "python",
   "nbconvert_exporter": "python",
   "pygments_lexer": "ipython3",
   "version": "3.10.12"
  },
  "orig_nbformat": 4
 },
 "nbformat": 4,
 "nbformat_minor": 2
}

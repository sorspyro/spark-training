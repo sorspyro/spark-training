{
 "cells": [
  {
   "cell_type": "code",
   "execution_count": null,
   "metadata": {},
   "outputs": [],
   "source": [
    "from pyspark.sql import SparkSession, DataFrame\n",
    "from common.session import get_spark_session\n",
    "from pyspark.sql.types import StructType, StructField, IntegerType, StringType\n",
    "from pyspark.sql.functions import lit, when, col\n",
    "\n",
    "spark = get_spark_session(session_name=\"HelloWorld\")\n",
    "\n",
    "# Initialize SparkSession\n",
    "spark = SparkSession.builder.appName(\"DummyDataFrame\").getOrCreate()\n",
    "\n",
    "# Sample data\n",
    "data = [\n",
    "    (1, \"Alice\", \"USA\"),\n",
    "    (2, \"Bob\", \"Canada\"),\n",
    "    (3, \"Charlie\", \"UK\"),\n",
    "    (4, \"David\", \"Australia\"),\n",
    "    (5, \"Eva\", \"Germany\")\n",
    "]\n",
    "\n",
    "# Define the schema for the DataFrame\n",
    "schema = StructType([\n",
    "    StructField(\"id\", IntegerType(), True),\n",
    "    StructField(\"name\", StringType(), True),\n",
    "    StructField(\"country\", StringType(), True)\n",
    "])\n",
    "\n",
    "# Create the DataFrame\n",
    "df = spark.createDataFrame(data, schema)\n"
   ]
  },
  {
   "cell_type": "code",
   "execution_count": null,
   "metadata": {},
   "outputs": [],
   "source": [
    "# Create another dataframe\n",
    "data_pets = [('Alice', 2), ('Bob', 1), ('Charlie', 3), ('David', 0), ('Eva', 2)]\n",
    "df_pets = spark.createDataFrame(data_pets, ['name','pets_count'])"
   ]
  },
  {
   "cell_type": "code",
   "execution_count": null,
   "metadata": {},
   "outputs": [],
   "source": [
    "# Run some transformations\n",
    "df_1 = df.withColumn('gender', when(col('name').isin(['Alice', 'Eva']),lit('F')).otherwise('M'))\n",
    "df_2 = df_1.filter(col('country') != 'Australia')\n",
    "joined_df = df_2.alias('first').join(df_pets.alias('second'), col('first.name') == col('second.name'), how='inner')\n",
    "output = joined_df.filter(col('country') != 'Germany')\n",
    "\n",
    "output.show()\n"
   ]
  }
 ],
 "metadata": {
  "kernelspec": {
   "display_name": "Python 3 (ipykernel)",
   "language": "python",
   "name": "python3"
  },
  "orig_nbformat": 4
 },
 "nbformat": 4,
 "nbformat_minor": 2
}
